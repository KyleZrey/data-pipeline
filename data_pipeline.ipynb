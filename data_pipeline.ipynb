{
 "cells": [
  {
   "cell_type": "markdown",
   "metadata": {},
   "source": [
    "Imports"
   ]
  },
  {
   "cell_type": "code",
   "execution_count": 1,
   "metadata": {},
   "outputs": [],
   "source": [
    "import pandas as pd\n",
    "import numpy as np\n",
    "import sqlite3\n",
    "from datetime import date"
   ]
  },
  {
   "cell_type": "code",
   "execution_count": 2,
   "metadata": {},
   "outputs": [],
   "source": [
    "#loading_branch_service\n",
    "df_branch_service = pd.read_json(\"branch_service_transaction_info.json\")\n",
    "\n",
    "#loading_customer_transaction\n",
    "df_customer_transaction = pd.read_json(\"customer_transaction_info.json\")"
   ]
  },
  {
   "cell_type": "code",
   "execution_count": 3,
   "metadata": {},
   "outputs": [],
   "source": [
    "#drop_dups_branch_service\n",
    "df_branch_service = df_branch_service.drop_duplicates(subset=['txn_id'])\n",
    "\n",
    "#drop_dups_customer_transaction\n",
    "df_customer_transaction = df_customer_transaction.drop_duplicates(subset=['txn_id'])"
   ]
  },
  {
   "cell_type": "code",
   "execution_count": 4,
   "metadata": {},
   "outputs": [],
   "source": [
    "#merge_dataframe\n",
    "df_merged = pd.merge(df_customer_transaction, df_branch_service)"
   ]
  },
  {
   "cell_type": "code",
   "execution_count": 5,
   "metadata": {},
   "outputs": [],
   "source": [
    "#fill_branch_name\n",
    "df_merged['branch_name'] = df_merged.replace('',np.nan).groupby('txn_id')['branch_name'].transform('first')\n",
    "df_merged['branch_name'] = df_merged['branch_name'].ffill().bfill()"
   ]
  },
  {
   "cell_type": "code",
   "execution_count": 6,
   "metadata": {},
   "outputs": [],
   "source": [
    "#fill_price\n",
    "df_merged['price'] = df_merged['price'].fillna(df_merged.groupby(['branch_name','service'])['price'].transform('mean'))"
   ]
  },
  {
   "cell_type": "code",
   "execution_count": 7,
   "metadata": {},
   "outputs": [],
   "source": [
    "#standardize_last_name\n",
    "df_merged['last_name'] = df_merged['last_name'].str.replace('\\W', '', regex=True)\n",
    "df_merged['last_name'] = df_merged['last_name'].str.upper()"
   ]
  },
  {
   "cell_type": "code",
   "execution_count": 8,
   "metadata": {},
   "outputs": [],
   "source": [
    "#standardize_first_name\n",
    "df_merged['first_name'] = df_merged['first_name'].str.replace('\\W', '', regex=True)\n",
    "df_merged['first_name'] = df_merged['first_name'].str.upper()"
   ]
  },
  {
   "cell_type": "code",
   "execution_count": 9,
   "metadata": {},
   "outputs": [],
   "source": [
    "#validate_dates\n",
    "today = str(date.today())\n",
    "df_merged['avail_date'] = pd.to_datetime(df_merged['avail_date'], format='%Y-%m-%d')\n",
    "df_merged['birthday'] = pd.to_datetime(df_merged['birthday'], format='%Y-%m-%d')\n",
    "df_merged = df_merged[(df_merged['avail_date'] <= today) & (df_merged['birthday'] <= today)]\n",
    "df_merged = df_merged[(df_merged['avail_date'] > df_merged['birthday'])]"
   ]
  },
  {
   "cell_type": "code",
   "execution_count": 10,
   "metadata": {},
   "outputs": [],
   "source": [
    "#validate_price\n",
    "df_merged['price'] = df_merged['price'].round(2)"
   ]
  },
  {
   "cell_type": "code",
   "execution_count": 11,
   "metadata": {},
   "outputs": [
    {
     "data": {
      "text/plain": [
       "43136"
      ]
     },
     "execution_count": 11,
     "metadata": {},
     "output_type": "execute_result"
    }
   ],
   "source": [
    "#ingestion_to_db\n",
    "db_connect = sqlite3.connect('labex3')\n",
    "cur = db_connect.cursor()\n",
    "cur.execute(\"create table if not exists labex3(txn_id varchar(45) not null primary key, avail_date datetime default current_date, last_name varchar(20), first_name varchar(20), birthday datetime default current_date, branch_name varchar(30), service varchar(30), price double)\")\n",
    "db_connect.commit()\n",
    "df_merged.to_sql('labex3', db_connect, if_exists='replace', index=False)"
   ]
  },
  {
   "cell_type": "code",
   "execution_count": null,
   "metadata": {},
   "outputs": [],
   "source": []
  },
  {
   "cell_type": "code",
   "execution_count": null,
   "metadata": {},
   "outputs": [],
   "source": []
  },
  {
   "cell_type": "code",
   "execution_count": null,
   "metadata": {},
   "outputs": [],
   "source": []
  },
  {
   "cell_type": "code",
   "execution_count": null,
   "metadata": {},
   "outputs": [],
   "source": []
  },
  {
   "cell_type": "code",
   "execution_count": null,
   "metadata": {},
   "outputs": [],
   "source": []
  },
  {
   "cell_type": "code",
   "execution_count": null,
   "metadata": {},
   "outputs": [],
   "source": []
  },
  {
   "cell_type": "code",
   "execution_count": null,
   "metadata": {},
   "outputs": [],
   "source": []
  },
  {
   "cell_type": "code",
   "execution_count": null,
   "metadata": {},
   "outputs": [],
   "source": []
  },
  {
   "cell_type": "code",
   "execution_count": null,
   "metadata": {},
   "outputs": [],
   "source": []
  }
 ],
 "metadata": {
  "kernelspec": {
   "display_name": "Python 3",
   "language": "python",
   "name": "python3"
  },
  "language_info": {
   "codemirror_mode": {
    "name": "ipython",
    "version": 3
   },
   "file_extension": ".py",
   "mimetype": "text/x-python",
   "name": "python",
   "nbconvert_exporter": "python",
   "pygments_lexer": "ipython3",
   "version": "3.11.6"
  }
 },
 "nbformat": 4,
 "nbformat_minor": 2
}
